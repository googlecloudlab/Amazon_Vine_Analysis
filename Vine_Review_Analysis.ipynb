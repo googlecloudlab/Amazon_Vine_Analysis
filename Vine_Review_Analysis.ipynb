{
  "cells": [
    {
      "cell_type": "code",
      "execution_count": 1,
      "metadata": {
        "colab": {
          "base_uri": "https://localhost:8080/"
        },
        "id": "5BjjOTj1Wyls",
        "outputId": "28b160d5-52f3-4e4f-929c-8cd5cfdce2ac"
      },
      "outputs": [
        {
          "name": "stdout",
          "output_type": "stream",
          "text": [
            "\r0% [Working]\r            \rGet:1 http://security.ubuntu.com/ubuntu bionic-security InRelease [88.7 kB]\n",
            "\r0% [Connecting to archive.ubuntu.com (185.125.190.39)] [1 InRelease 14.2 kB/88.\r                                                                               \rGet:2 https://cloud.r-project.org/bin/linux/ubuntu bionic-cran40/ InRelease [3,626 B]\n",
            "\r0% [Connecting to archive.ubuntu.com (185.125.190.39)] [1 InRelease 34.4 kB/88.\r0% [Connecting to archive.ubuntu.com (185.125.190.39)] [1 InRelease 43.1 kB/88.\r0% [2 InRelease gpgv 3,626 B] [Waiting for headers] [1 InRelease 43.1 kB/88.7 k\r0% [2 InRelease gpgv 3,626 B] [Waiting for headers] [Waiting for headers] [Wait\r                                                                               \rIgn:3 https://developer.download.nvidia.com/compute/machine-learning/repos/ubuntu1804/x86_64  InRelease\n",
            "\r                                                                               \rGet:4 http://ppa.launchpad.net/c2d4u.team/c2d4u4.0+/ubuntu bionic InRelease [15.9 kB]\n",
            "\r0% [2 InRelease gpgv 3,626 B] [Waiting for headers] [Waiting for headers] [4 In\r                                                                               \rGet:5 https://developer.download.nvidia.com/compute/cuda/repos/ubuntu1804/x86_64  InRelease [1,581 B]\n",
            "\r0% [2 InRelease gpgv 3,626 B] [Waiting for headers] [5 InRelease 1,581 B/1,581 \r0% [2 InRelease gpgv 3,626 B] [Waiting for headers] [4 InRelease 14.2 kB/15.9 k\r                                                                               \rHit:6 http://archive.ubuntu.com/ubuntu bionic InRelease\n",
            "Hit:7 https://developer.download.nvidia.com/compute/machine-learning/repos/ubuntu1804/x86_64  Release\n",
            "Get:8 http://archive.ubuntu.com/ubuntu bionic-updates InRelease [88.7 kB]\n",
            "Hit:9 http://ppa.launchpad.net/cran/libgit2/ubuntu bionic InRelease\n",
            "Get:10 http://security.ubuntu.com/ubuntu bionic-security/universe amd64 Packages [1,546 kB]\n",
            "Get:11 https://developer.download.nvidia.com/compute/cuda/repos/ubuntu1804/x86_64  Packages [913 kB]\n",
            "Get:12 http://archive.ubuntu.com/ubuntu bionic-backports InRelease [83.3 kB]\n",
            "Hit:13 http://ppa.launchpad.net/deadsnakes/ppa/ubuntu bionic InRelease\n",
            "Get:14 http://security.ubuntu.com/ubuntu bionic-security/main amd64 Packages [2,990 kB]\n",
            "Get:15 http://ppa.launchpad.net/graphics-drivers/ppa/ubuntu bionic InRelease [21.3 kB]\n",
            "Get:17 http://ppa.launchpad.net/c2d4u.team/c2d4u4.0+/ubuntu bionic/main Sources [2,155 kB]\n",
            "Get:18 http://archive.ubuntu.com/ubuntu bionic-updates/main amd64 Packages [3,422 kB]\n",
            "Get:19 http://ppa.launchpad.net/c2d4u.team/c2d4u4.0+/ubuntu bionic/main amd64 Packages [1,104 kB]\n",
            "Get:20 http://archive.ubuntu.com/ubuntu bionic-updates/universe amd64 Packages [2,323 kB]\n",
            "Get:21 http://ppa.launchpad.net/graphics-drivers/ppa/ubuntu bionic/main amd64 Packages [48.3 kB]\n",
            "Fetched 14.8 MB in 4s (3,366 kB/s)\n",
            "Reading package lists... Done\n"
          ]
        }
      ],
      "source": [
        "import os\n",
        "spark_version = 'spark-3.3.0'\n",
        "os.environ['SPARK_VERSION']=spark_version\n",
        "\n",
        "# Install Spark and Java\n",
        "!apt-get update\n",
        "!apt-get install openjdk-11-jdk-headless -qq > /dev/null\n",
        "!wget -q http://www.apache.org/dist/spark/$SPARK_VERSION/$SPARK_VERSION-bin-hadoop3.tgz\n",
        "!tar xf $SPARK_VERSION-bin-hadoop3.tgz\n",
        "!pip install -q findspark\n",
        "\n",
        "# Set Environment Variables\n",
        "import os\n",
        "os.environ[\"JAVA_HOME\"] = \"/usr/lib/jvm/java-11-openjdk-amd64\"\n",
        "os.environ[\"SPARK_HOME\"] = f\"/content/{spark_version}-bin-hadoop3\"\n",
        "\n",
        "import findspark\n",
        "findspark.init()"
      ]
    },
    {
      "cell_type": "code",
      "execution_count": 2,
      "metadata": {
        "colab": {
          "base_uri": "https://localhost:8080/"
        },
        "id": "_xKwTpATHqSe",
        "outputId": "7efcc4d2-d5dc-4bac-c432-ffe18d214f76"
      },
      "outputs": [
        {
          "name": "stdout",
          "output_type": "stream",
          "text": [
            "--2022-10-03 04:36:59--  https://jdbc.postgresql.org/download/postgresql-42.2.16.jar\n",
            "Resolving jdbc.postgresql.org (jdbc.postgresql.org)... 72.32.157.228, 2001:4800:3e1:1::228\n",
            "Connecting to jdbc.postgresql.org (jdbc.postgresql.org)|72.32.157.228|:443... connected.\n",
            "HTTP request sent, awaiting response... 200 OK\n",
            "Length: 1002883 (979K) [application/java-archive]\n",
            "Saving to: ‘postgresql-42.2.16.jar’\n",
            "\n",
            "postgresql-42.2.16. 100%[===================>] 979.38K  6.23MB/s    in 0.2s    \n",
            "\n",
            "2022-10-03 04:37:00 (6.23 MB/s) - ‘postgresql-42.2.16.jar’ saved [1002883/1002883]\n",
            "\n"
          ]
        }
      ],
      "source": [
        "# Download the Postgres driver that will allow Spark to interact with Postgres.\n",
        "!wget https://jdbc.postgresql.org/download/postgresql-42.2.16.jar"
      ]
    },
    {
      "cell_type": "code",
      "execution_count": 3,
      "metadata": {
        "id": "MMqDAjVS0KN9"
      },
      "outputs": [],
      "source": [
        "from pyspark.sql import SparkSession\n",
        "spark = SparkSession.builder.appName(\"Vine-Review-Analysis\").getOrCreate()"
      ]
    },
    {
      "cell_type": "markdown",
      "metadata": {
        "id": "cyBsySGuY-9V"
      },
      "source": [
        "### Load Amazon Data into Spark DataFrame"
      ]
    },
    {
      "cell_type": "code",
      "execution_count": 4,
      "metadata": {
        "colab": {
          "base_uri": "https://localhost:8080/"
        },
        "id": "CtCmBhQJY-9Z",
        "outputId": "913d9976-b6db-432b-b0ab-388f6793ebf4"
      },
      "outputs": [
        {
          "name": "stdout",
          "output_type": "stream",
          "text": [
            "+-----------+-----------+--------------+----------+--------------+--------------------+----------------+-----------+-------------+-----------+----+-----------------+--------------------+--------------------+-------------------+\n",
            "|marketplace|customer_id|     review_id|product_id|product_parent|       product_title|product_category|star_rating|helpful_votes|total_votes|vine|verified_purchase|     review_headline|         review_body|        review_date|\n",
            "+-----------+-----------+--------------+----------+--------------+--------------------+----------------+-----------+-------------+-----------+----+-----------------+--------------------+--------------------+-------------------+\n",
            "|         US|   18446823|R35T75OLUGHL5C|B000NV6H94|     110804376|Stearns Youth Boa...|        Outdoors|          4|            0|          0|   N|                Y|          Four Stars|          GOOD VALUE|2015-08-31 00:00:00|\n",
            "|         US|   13724367|R2BV735O46BN33|B000IN0W3Y|     624096774|Primal Wear Men's...|        Outdoors|          5|            0|          0|   N|                Y|          Five Stars|  Excellent quality.|2015-08-31 00:00:00|\n",
            "|         US|   51001958|R2NBEUGPQQGXP1|B008RBJXFM|     278970944|Osprey Hydraulics...|        Outdoors|          4|            0|          0|   N|                Y|Only Flaw Is The Cap|3rd season using ...|2015-08-31 00:00:00|\n",
            "|         US|   32866903|R17LLAOJ8ITK0S|B00FK8WUQY|     312877650|CamelBak eddy .75...|        Outdoors|          3|            1|          1|   N|                Y|Poor design leads...|poor construction...|2015-08-31 00:00:00|\n",
            "|         US|   30907790|R39PEQBT5ISEF4|B00EZA3VW0|     305567912|Children Black Re...|        Outdoors|          1|            0|          0|   N|                Y|Very bad quality,...|Very bad quality,...|2015-08-31 00:00:00|\n",
            "|         US|   20232229|R3GNM3SU9VHJFT|B006JA8WEG|     842306035|Ibera Bicycle Tri...|        Outdoors|          4|            1|          1|   N|                Y|Nice bag. Should ...|Nice bag. Should ...|2015-08-31 00:00:00|\n",
            "|         US|   17698862| R2Y81OP0EK467|B002PWFSEO|     451480122|Therm-a-Rest Comp...|        Outdoors|          5|            0|          0|   N|                Y|Very comfortable ...|Gave this to my s...|2015-08-31 00:00:00|\n",
            "|         US|   38486114|R2LFGSI6HAYH5F|B002DZGKHW|     124386306|Sawyer Products P...|        Outdoors|          5|            1|          1|   N|                Y| Worked like a charm|Went on vacation ...|2015-08-31 00:00:00|\n",
            "|         US|   26319572|R297G6ED1IQO7W|B00ABA08F6|     991442421|Zippo Hand Warmer...|        Outdoors|          5|            1|          1|   N|                Y|Great item. Gets ...|Great item. Gets ...|2015-08-31 00:00:00|\n",
            "|         US|   27152337| RE27RFC6101N6|B003Z8WIHC|     886483892|Camp Chef Dutch O...|        Outdoors|          5|            0|          0|   N|                Y|Great value for t...|I am so glad I bo...|2015-08-31 00:00:00|\n",
            "|         US|   12516845|R3BPDME6E94W8Z|B007CP6UK0|     150224054|3CERA Portable Wi...|        Outdoors|          5|            0|          0|   N|                Y|          Five Stars|        good to have|2015-08-31 00:00:00|\n",
            "|         US|    3225242|R2P08O1RILUOX3|B003V3U9JK|     343847969|Texsport King Kot...|        Outdoors|          3|            0|          0|   N|                Y|Cot set up inconv...|VERY difficult to...|2015-08-31 00:00:00|\n",
            "|         US|     961839|R37CVAB03PTDVI|B00Y846HN8|     858088629|Wallygadgets 2 Wh...|        Outdoors|          5|            0|          1|   N|                Y|          Five Stars|Thanks excellent ...|2015-08-31 00:00:00|\n",
            "|         US|   47796452| RAWNWOGXPCPMD|B00IYQ84VY|     474493517|RainStoppers 34-I...|        Outdoors|          5|            0|          0|   N|                Y|          Five Stars|This umbrella is ...|2015-08-31 00:00:00|\n",
            "|         US|   32004835| R5DYGP6ASX77M|B002MYCKLY|     920014456|Alpha Deluxe Port...|        Outdoors|          5|            0|          0|   N|                Y|          Five Stars|Love it !! I even...|2015-08-31 00:00:00|\n",
            "|         US|   23972939|R1O0SAOOGF2KG7|B00EZV69JG|     128489321|Speedfil Z4 BTA B...|        Outdoors|          4|            0|          0|   N|                Y|        Good enough.|This is a fine mo...|2015-08-31 00:00:00|\n",
            "|         US|   40889047|R35NJUT0U3MU3V|B00AWOT3T8|     571303876|O'Brien Kids Plat...|        Outdoors|          5|            0|          0|   N|                Y| Got Up on First Try|We just bought th...|2015-08-31 00:00:00|\n",
            "|         US|   11244387|R242C08MF9D1AH|B0000AXTID|     739769424|Kwik-Tek F-5R Pla...|        Outdoors|          5|            0|          0|   N|                Y|They go over an a...|I have these on m...|2015-08-31 00:00:00|\n",
            "|         US|   20121211| R3RYG8TJTO4E2|B00IFHFJXI|     984009972|Ivation Portable ...|        Outdoors|          5|            0|          0|   N|                Y|Greatest Item I b...|This is the best ...|2015-08-31 00:00:00|\n",
            "|         US|   25657249|R3IKH1DNY0CP9F|B00KFILTWU|     405521681|GreenInsync Repla...|        Outdoors|          2|            0|          0|   N|                Y|I received this p...|I received this p...|2015-08-31 00:00:00|\n",
            "+-----------+-----------+--------------+----------+--------------+--------------------+----------------+-----------+-------------+-----------+----+-----------------+--------------------+--------------------+-------------------+\n",
            "only showing top 20 rows\n",
            "\n"
          ]
        }
      ],
      "source": [
        "from pyspark import SparkFiles\n",
        "url = \"https://s3.amazonaws.com/amazon-reviews-pds/tsv/amazon_reviews_us_Outdoors_v1_00.tsv.gz\"\n",
        "spark.sparkContext.addFile(url)\n",
        "df = spark.read.option(\"encoding\", \"UTF-8\").csv(SparkFiles.get(\"amazon_reviews_us_Outdoors_v1_00.tsv.gz\"), sep=\"\\t\", header=True, inferSchema=True)\n",
        "df.show()"
      ]
    },
    {
      "cell_type": "markdown",
      "metadata": {
        "id": "2yUSe55VY-9t"
      },
      "source": [
        "### Create DataFrames to match tables"
      ]
    },
    {
      "cell_type": "code",
      "execution_count": 5,
      "metadata": {
        "colab": {
          "base_uri": "https://localhost:8080/"
        },
        "id": "lzMmkdKmY--D",
        "outputId": "a1bc8951-ce32-4254-d878-6542f88403fb"
      },
      "outputs": [
        {
          "name": "stdout",
          "output_type": "stream",
          "text": [
            "+--------------+-----------+-------------+-----------+----+-----------------+\n",
            "|     review_id|star_rating|helpful_votes|total_votes|vine|verified_purchase|\n",
            "+--------------+-----------+-------------+-----------+----+-----------------+\n",
            "|R35T75OLUGHL5C|          4|            0|          0|   N|                Y|\n",
            "|R2BV735O46BN33|          5|            0|          0|   N|                Y|\n",
            "|R2NBEUGPQQGXP1|          4|            0|          0|   N|                Y|\n",
            "|R17LLAOJ8ITK0S|          3|            1|          1|   N|                Y|\n",
            "|R39PEQBT5ISEF4|          1|            0|          0|   N|                Y|\n",
            "|R3GNM3SU9VHJFT|          4|            1|          1|   N|                Y|\n",
            "| R2Y81OP0EK467|          5|            0|          0|   N|                Y|\n",
            "|R2LFGSI6HAYH5F|          5|            1|          1|   N|                Y|\n",
            "|R297G6ED1IQO7W|          5|            1|          1|   N|                Y|\n",
            "| RE27RFC6101N6|          5|            0|          0|   N|                Y|\n",
            "|R3BPDME6E94W8Z|          5|            0|          0|   N|                Y|\n",
            "|R2P08O1RILUOX3|          3|            0|          0|   N|                Y|\n",
            "|R37CVAB03PTDVI|          5|            0|          1|   N|                Y|\n",
            "| RAWNWOGXPCPMD|          5|            0|          0|   N|                Y|\n",
            "| R5DYGP6ASX77M|          5|            0|          0|   N|                Y|\n",
            "|R1O0SAOOGF2KG7|          4|            0|          0|   N|                Y|\n",
            "|R35NJUT0U3MU3V|          5|            0|          0|   N|                Y|\n",
            "|R242C08MF9D1AH|          5|            0|          0|   N|                Y|\n",
            "| R3RYG8TJTO4E2|          5|            0|          0|   N|                Y|\n",
            "|R3IKH1DNY0CP9F|          2|            0|          0|   N|                Y|\n",
            "+--------------+-----------+-------------+-----------+----+-----------------+\n",
            "only showing top 20 rows\n",
            "\n"
          ]
        }
      ],
      "source": [
        "# Create the vine_table. DataFrame\n",
        "vine_df = df.select([\"review_id\", \"star_rating\", \"helpful_votes\", \"total_votes\", \"vine\", \"verified_purchase\"])\n",
        "vine_df.show()"
      ]
    },
    {
      "cell_type": "code",
      "execution_count": 8,
      "metadata": {
        "colab": {
          "base_uri": "https://localhost:8080/"
        },
        "id": "Exuo6ebUsCqW",
        "outputId": "dc6363fb-91fe-4e16-ff47-8e0561b8e8f2"
      },
      "outputs": [
        {
          "name": "stdout",
          "output_type": "stream",
          "text": [
            "+--------------+-----------+-------------+-----------+----+-----------------+\n",
            "|     review_id|star_rating|helpful_votes|total_votes|vine|verified_purchase|\n",
            "+--------------+-----------+-------------+-----------+----+-----------------+\n",
            "|R2FP3U4NHNFNL2|          5|           25|         29|   N|                Y|\n",
            "|R1UUK1977O38MU|          5|           31|         31|   N|                Y|\n",
            "| RXO216LWUDV6O|          3|           29|         31|   N|                Y|\n",
            "|R3NMJF7EBMM19V|          3|           26|         27|   N|                Y|\n",
            "|R2ZY0ZBDUO0XUY|          3|           20|         21|   N|                Y|\n",
            "| RBDVHX7PMQEKM|          5|           35|         39|   N|                Y|\n",
            "| RGO3KSDXYWTGU|          4|           26|         26|   N|                Y|\n",
            "|R2O4P39D0ALCQK|          2|           14|         43|   N|                Y|\n",
            "|R1E1PQGHWGO3Q1|          1|           89|         96|   N|                Y|\n",
            "|R1XOXXUVYZEDJB|          5|           22|         22|   N|                Y|\n",
            "| R7SHITUU5UG9U|          5|           27|         27|   N|                Y|\n",
            "|R230TLHU91M5Y3|          4|           21|         21|   N|                Y|\n",
            "| RHR5MKO23K9TU|          5|           26|         30|   N|                Y|\n",
            "|R1HGK3TCY161D7|          5|           52|         55|   N|                N|\n",
            "|R340QYAVNZZHJA|          4|           25|         25|   N|                N|\n",
            "|R2F1UVQK0JL4QH|          3|           20|         20|   N|                Y|\n",
            "|R1N21UY546VWMN|          2|           48|         50|   N|                Y|\n",
            "|R1E4L344EK0ZOT|          5|           20|         26|   N|                N|\n",
            "|R282QUZDDJW3ON|          4|           45|         49|   N|                Y|\n",
            "|R3H5T3T7QY3ZL2|          5|          247|        263|   N|                Y|\n",
            "+--------------+-----------+-------------+-----------+----+-----------------+\n",
            "only showing top 20 rows\n",
            "\n"
          ]
        }
      ],
      "source": [
        "filtered_vine_df = vine_df.filter(\"total_votes>=20\")\n",
        "filtered_vine_df.show()"
      ]
    },
    {
      "cell_type": "code",
      "execution_count": 10,
      "metadata": {
        "colab": {
          "base_uri": "https://localhost:8080/"
        },
        "id": "nJk7mWMELOw9",
        "outputId": "726eaf78-6f8b-45f2-9a52-aa2e3a4e92ec"
      },
      "outputs": [
        {
          "name": "stdout",
          "output_type": "stream",
          "text": [
            "+--------------+-----------+-------------+-----------+----+-----------------+\n",
            "|     review_id|star_rating|helpful_votes|total_votes|vine|verified_purchase|\n",
            "+--------------+-----------+-------------+-----------+----+-----------------+\n",
            "|R2FP3U4NHNFNL2|          5|           25|         29|   N|                Y|\n",
            "|R1UUK1977O38MU|          5|           31|         31|   N|                Y|\n",
            "| RXO216LWUDV6O|          3|           29|         31|   N|                Y|\n",
            "|R3NMJF7EBMM19V|          3|           26|         27|   N|                Y|\n",
            "|R2ZY0ZBDUO0XUY|          3|           20|         21|   N|                Y|\n",
            "| RBDVHX7PMQEKM|          5|           35|         39|   N|                Y|\n",
            "| RGO3KSDXYWTGU|          4|           26|         26|   N|                Y|\n",
            "|R1E1PQGHWGO3Q1|          1|           89|         96|   N|                Y|\n",
            "|R1XOXXUVYZEDJB|          5|           22|         22|   N|                Y|\n",
            "| R7SHITUU5UG9U|          5|           27|         27|   N|                Y|\n",
            "|R230TLHU91M5Y3|          4|           21|         21|   N|                Y|\n",
            "| RHR5MKO23K9TU|          5|           26|         30|   N|                Y|\n",
            "|R1HGK3TCY161D7|          5|           52|         55|   N|                N|\n",
            "|R340QYAVNZZHJA|          4|           25|         25|   N|                N|\n",
            "|R2F1UVQK0JL4QH|          3|           20|         20|   N|                Y|\n",
            "|R1N21UY546VWMN|          2|           48|         50|   N|                Y|\n",
            "|R1E4L344EK0ZOT|          5|           20|         26|   N|                N|\n",
            "|R282QUZDDJW3ON|          4|           45|         49|   N|                Y|\n",
            "|R3H5T3T7QY3ZL2|          5|          247|        263|   N|                Y|\n",
            "|R3W1A1P95IIGHX|          5|           23|         25|   N|                N|\n",
            "+--------------+-----------+-------------+-----------+----+-----------------+\n",
            "only showing top 20 rows\n",
            "\n"
          ]
        }
      ],
      "source": [
        "helpful_vine_df = filtered_vine_df.filter(\"helpful_votes/total_votes>=0.5\")\n",
        "helpful_vine_df.show()"
      ]
    },
    {
      "cell_type": "code",
      "execution_count": 11,
      "metadata": {
        "colab": {
          "base_uri": "https://localhost:8080/"
        },
        "id": "507FyJmJLvvX",
        "outputId": "ccdcb234-2154-4865-8a30-cdb69496c5dd"
      },
      "outputs": [
        {
          "name": "stdout",
          "output_type": "stream",
          "text": [
            "+--------------+-----------+-------------+-----------+----+-----------------+\n",
            "|     review_id|star_rating|helpful_votes|total_votes|vine|verified_purchase|\n",
            "+--------------+-----------+-------------+-----------+----+-----------------+\n",
            "|R3KPC0NBUDASX3|          5|           25|         25|   Y|                N|\n",
            "|R119P2A95GGXX4|          5|           26|         28|   Y|                N|\n",
            "|R1HKIRME8AJ89Z|          5|           79|         82|   Y|                N|\n",
            "|R3FY3GMBGOBR22|          5|           12|         20|   Y|                N|\n",
            "|R15KH3FBSVYGBU|          5|           32|         37|   Y|                N|\n",
            "|R22XZEQLVLWW49|          5|           28|         33|   Y|                N|\n",
            "|R2OIQYVAL9D63R|          4|           59|         65|   Y|                N|\n",
            "|R1W3KCDHM6BMZT|          4|           37|         38|   Y|                N|\n",
            "|R3KDMPS96IJ10R|          2|           15|         21|   Y|                N|\n",
            "|R1XWEI58A7VKLB|          5|          123|        128|   Y|                N|\n",
            "|R1CJWM6CMWKSA1|          4|           31|         33|   Y|                N|\n",
            "|R39I3FUDBKZM3Y|          5|           34|         38|   Y|                N|\n",
            "|R32LU0KSL7QWSF|          5|           35|         37|   Y|                N|\n",
            "|R2LGDXO3MG2WQW|          5|           37|         41|   Y|                N|\n",
            "|R16AVI2NTYWLKI|          5|           31|         33|   Y|                N|\n",
            "|R12K0ITIV6AYM3|          5|           34|         34|   Y|                N|\n",
            "| R9ILZLNNK93CO|          5|           38|         39|   Y|                N|\n",
            "|R1CS8VSI1KSR1P|          5|           21|         22|   Y|                N|\n",
            "|R186TCIH8TEGPY|          5|           40|         43|   Y|                N|\n",
            "| R3GBQRR2GY4SP|          4|          119|        125|   Y|                N|\n",
            "+--------------+-----------+-------------+-----------+----+-----------------+\n",
            "only showing top 20 rows\n",
            "\n"
          ]
        }
      ],
      "source": [
        "reviewed_vine_df = helpful_vine_df.filter(helpful_vine_df[\"vine\"] == \"Y\")\n",
        "reviewed_vine_df.show()"
      ]
    },
    {
      "cell_type": "code",
      "execution_count": null,
      "metadata": {
        "id": "fB7eq507McsE"
      },
      "outputs": [],
      "source": []
    },
    {
      "cell_type": "code",
      "execution_count": 12,
      "metadata": {
        "colab": {
          "base_uri": "https://localhost:8080/"
        },
        "id": "JyXX48rJMePJ",
        "outputId": "d20ef7ec-3c3a-4f55-e4d8-61d3b93e607e"
      },
      "outputs": [
        {
          "name": "stdout",
          "output_type": "stream",
          "text": [
            "+--------------+-----------+-------------+-----------+----+-----------------+\n",
            "|     review_id|star_rating|helpful_votes|total_votes|vine|verified_purchase|\n",
            "+--------------+-----------+-------------+-----------+----+-----------------+\n",
            "|R2FP3U4NHNFNL2|          5|           25|         29|   N|                Y|\n",
            "|R1UUK1977O38MU|          5|           31|         31|   N|                Y|\n",
            "| RXO216LWUDV6O|          3|           29|         31|   N|                Y|\n",
            "|R3NMJF7EBMM19V|          3|           26|         27|   N|                Y|\n",
            "|R2ZY0ZBDUO0XUY|          3|           20|         21|   N|                Y|\n",
            "| RBDVHX7PMQEKM|          5|           35|         39|   N|                Y|\n",
            "| RGO3KSDXYWTGU|          4|           26|         26|   N|                Y|\n",
            "|R1E1PQGHWGO3Q1|          1|           89|         96|   N|                Y|\n",
            "|R1XOXXUVYZEDJB|          5|           22|         22|   N|                Y|\n",
            "| R7SHITUU5UG9U|          5|           27|         27|   N|                Y|\n",
            "|R230TLHU91M5Y3|          4|           21|         21|   N|                Y|\n",
            "| RHR5MKO23K9TU|          5|           26|         30|   N|                Y|\n",
            "|R1HGK3TCY161D7|          5|           52|         55|   N|                N|\n",
            "|R340QYAVNZZHJA|          4|           25|         25|   N|                N|\n",
            "|R2F1UVQK0JL4QH|          3|           20|         20|   N|                Y|\n",
            "|R1N21UY546VWMN|          2|           48|         50|   N|                Y|\n",
            "|R1E4L344EK0ZOT|          5|           20|         26|   N|                N|\n",
            "|R282QUZDDJW3ON|          4|           45|         49|   N|                Y|\n",
            "|R3H5T3T7QY3ZL2|          5|          247|        263|   N|                Y|\n",
            "|R3W1A1P95IIGHX|          5|           23|         25|   N|                N|\n",
            "+--------------+-----------+-------------+-----------+----+-----------------+\n",
            "only showing top 20 rows\n",
            "\n"
          ]
        }
      ],
      "source": [
        "unreviewed_vine_df = helpful_vine_df.filter(helpful_vine_df[\"vine\"] == \"N\")\n",
        "unreviewed_vine_df.show()"
      ]
    },
    {
      "cell_type": "code",
      "execution_count": 26,
      "metadata": {
        "colab": {
          "base_uri": "https://localhost:8080/"
        },
        "id": "Q4FHB3IVMl5R",
        "outputId": "b43a6971-6b10-4c5c-bfe4-8a921d9c77ab"
      },
      "outputs": [
        {
          "name": "stdout",
          "output_type": "stream",
          "text": [
            "Total number of reviews:  2302401\n",
            "Number of 5 star reviews:  1434884\n",
            "Number of Vine reviews:  107\n",
            "Number of 5 star Vine reviews:  56\n",
            "Percentage of 5 star Vine reviews:  52.336448598130836\n",
            "Number of non-Vine reviews:  39869\n",
            "Number of non-Vine 5 star reviews:  21005\n",
            "Percentage of 5 star non-Vine reviews:  52.68504351751988\n"
          ]
        }
      ],
      "source": [
        "total_reviews_count = vine_df.count()\n",
        "print(\"Total number of reviews: \", total_reviews_count)\n",
        "total_five_star_reviews_count = vine_df.filter(vine_df[\"star_rating\"] == 5).count()\n",
        "print(\"Number of 5 star reviews: \", total_five_star_reviews_count)\n",
        "vine_review_count = reviewed_vine_df.count()\n",
        "print(\"Number of Vine reviews: \", vine_review_count)\n",
        "vine_five_star_reviews_count = reviewed_vine_df.filter(reviewed_vine_df[\"star_rating\"] == 5).count()\n",
        "print(\"Number of 5 star Vine reviews: \", vine_five_star_reviews_count)\n",
        "print(\"Percentage of 5 star Vine reviews: \", vine_five_star_reviews_count/vine_review_count*100)\n",
        "other_review_count = unreviewed_vine_df.count()\n",
        "print(\"Number of non-Vine reviews: \", other_review_count)\n",
        "other_five_star_reviews_count = unreviewed_vine_df.filter(unreviewed_vine_df[\"star_rating\"] == 5).count()\n",
        "print(\"Number of non-Vine 5 star reviews: \", other_five_star_reviews_count)\n",
        "print(\"Percentage of 5 star non-Vine reviews: \", other_five_star_reviews_count/other_review_count*100)\n"
      ]
    }
  ],
  "metadata": {
    "colab": {
      "provenance": []
    },
    "kernelspec": {
      "display_name": "Python 3.9.2 64-bit ('3.9.2')",
      "language": "python",
      "name": "python3"
    },
    "language_info": {
      "name": "python",
      "version": "3.9.2"
    },
    "nteract": {
      "version": "0.12.3"
    },
    "vscode": {
      "interpreter": {
        "hash": "a3406f8e3981ff008e2601c646d1edcb3854e24105c672c5fed5c725a0654e60"
      }
    }
  },
  "nbformat": 4,
  "nbformat_minor": 0
}
